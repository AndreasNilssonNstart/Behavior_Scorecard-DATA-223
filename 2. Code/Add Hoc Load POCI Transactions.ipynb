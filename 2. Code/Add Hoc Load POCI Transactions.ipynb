{
 "cells": [
  {
   "cell_type": "code",
   "execution_count": 1,
   "metadata": {},
   "outputs": [],
   "source": [
    "import pandas as pd\n",
    "import numpy as np\n",
    "import datetime as dt\n",
    "import os\n",
    "import sqlalchemy as sa\n",
    "import pyodbc\n",
    "import warnings\n",
    "import urllib\n",
    "warnings.filterwarnings('ignore')\n",
    "\n",
    "\n",
    "path = \"../2. Code/Classes\"\n",
    "os.chdir(path)\n",
    "\n",
    "from Preprocessing_Application_N import DataPreprocessor\n",
    "from Credentials_Loader import CredentialLoader"
   ]
  },
  {
   "cell_type": "code",
   "execution_count": 2,
   "metadata": {},
   "outputs": [],
   "source": [
    "\n",
    "\n",
    "\n",
    "\n",
    "loader = CredentialLoader()  # Initializes the loader with default paths\n",
    "credentials = loader.load_credentials()  # Loads the credentials from .env\n",
    "\n",
    "username = credentials['username']\n",
    "password = credentials['password']\n",
    "server = credentials['server']\n",
    "database = credentials['reporting_db']\n",
    "\n",
    "relative_path_to_excel = \"../../1. Data/Add Hoc Requests/modhi20240216_korrigering_och_a__terko__p_nstart.xlsx\"\n",
    "\n",
    "\n",
    "df = pd.read_excel(relative_path_to_excel, sheet_name=\"Accounts\", engine='openpyxl')\n",
    "\n"
   ]
  },
  {
   "cell_type": "code",
   "execution_count": 3,
   "metadata": {},
   "outputs": [
    {
     "data": {
      "text/plain": [
       "'/Users/andreasnilsson/Library/CloudStorage/OneDrive-Nstart/Skrivbordet/Repository Homes/Behavior_Scorecard-DATA-223/2. Code/Classes'"
      ]
     },
     "execution_count": 3,
     "metadata": {},
     "output_type": "execute_result"
    }
   ],
   "source": [
    "os.getcwd()"
   ]
  },
  {
   "cell_type": "code",
   "execution_count": 4,
   "metadata": {},
   "outputs": [],
   "source": [
    "df = df[df.BoughtCapital > 0]"
   ]
  },
  {
   "cell_type": "code",
   "execution_count": 5,
   "metadata": {},
   "outputs": [],
   "source": [
    "df =  df.iloc[:,:4]\n"
   ]
  },
  {
   "cell_type": "code",
   "execution_count": 6,
   "metadata": {},
   "outputs": [],
   "source": [
    "df['AccountNumber'] = df['AccountNumber'].astype(int).astype(str)"
   ]
  },
  {
   "cell_type": "code",
   "execution_count": 7,
   "metadata": {},
   "outputs": [],
   "source": [
    "df.SaleDate = pd.to_datetime(df.SaleDate) "
   ]
  },
  {
   "cell_type": "code",
   "execution_count": 8,
   "metadata": {},
   "outputs": [
    {
     "data": {
      "text/plain": [
       "0    2024-04-30\n",
       "1    2024-04-30\n",
       "2    2024-04-30\n",
       "3    2024-04-30\n",
       "4    2024-04-30\n",
       "5    2024-04-30\n",
       "6    2024-04-30\n",
       "7    2024-04-30\n",
       "8    2024-04-30\n",
       "9    2024-04-30\n",
       "10   2024-04-30\n",
       "11   2024-04-30\n",
       "12   2024-04-30\n",
       "13   2024-04-30\n",
       "14   2024-04-30\n",
       "15   2024-04-30\n",
       "16   2024-04-30\n",
       "17   2024-04-30\n",
       "18   2024-04-30\n",
       "19   2024-04-30\n",
       "20   2024-04-30\n",
       "21   2024-04-30\n",
       "22   2024-04-30\n",
       "23   2024-04-30\n",
       "24   2024-04-30\n",
       "25   2024-04-30\n",
       "26   2024-04-30\n",
       "27   2024-04-30\n",
       "28   2024-04-30\n",
       "29   2024-04-30\n",
       "30   2024-04-30\n",
       "31   2024-04-30\n",
       "32   2024-04-30\n",
       "33   2024-04-30\n",
       "34   2024-04-30\n",
       "35   2024-04-30\n",
       "36   2024-04-30\n",
       "37   2024-04-30\n",
       "38   2024-04-30\n",
       "39   2024-04-30\n",
       "40   2024-04-30\n",
       "41   2024-04-30\n",
       "42   2024-04-30\n",
       "43   2024-04-30\n",
       "44   2024-04-30\n",
       "45   2024-04-30\n",
       "46   2024-04-30\n",
       "47   2024-04-30\n",
       "48   2024-04-30\n",
       "Name: SaleDate, dtype: datetime64[ns]"
      ]
     },
     "execution_count": 8,
     "metadata": {},
     "output_type": "execute_result"
    }
   ],
   "source": [
    "df.SaleDate "
   ]
  },
  {
   "cell_type": "code",
   "execution_count": 9,
   "metadata": {},
   "outputs": [],
   "source": [
    "\n",
    "# Update the driver to 'ODBC Driver 17 for SQL Server' for Native Client 17\n",
    "# This assumes you're using ODBC Driver 17, which is the usual driver used with SQL Server Native Client 17 installations\n",
    "engine = sa.create_engine(f'mssql+pyodbc://{username}:{password}@{server}:1433/{database}?driver=ODBC+Driver+17+for+SQL+Server')\n"
   ]
  },
  {
   "cell_type": "code",
   "execution_count": 10,
   "metadata": {},
   "outputs": [
    {
     "data": {
      "text/plain": [
       "49"
      ]
     },
     "execution_count": 10,
     "metadata": {},
     "output_type": "execute_result"
    }
   ],
   "source": [
    "# Upload DataFrame to SQL table\n",
    "df.to_sql('RePurchase', con=engine, index=False, if_exists='append', schema='Hannes')"
   ]
  },
  {
   "cell_type": "code",
   "execution_count": 12,
   "metadata": {},
   "outputs": [],
   "source": []
  },
  {
   "cell_type": "code",
   "execution_count": null,
   "metadata": {},
   "outputs": [],
   "source": []
  }
 ],
 "metadata": {
  "kernelspec": {
   "display_name": "Python 3",
   "language": "python",
   "name": "python3"
  },
  "language_info": {
   "codemirror_mode": {
    "name": "ipython",
    "version": 3
   },
   "file_extension": ".py",
   "mimetype": "text/x-python",
   "name": "python",
   "nbconvert_exporter": "python",
   "pygments_lexer": "ipython3",
   "version": "3.9.6"
  }
 },
 "nbformat": 4,
 "nbformat_minor": 2
}
