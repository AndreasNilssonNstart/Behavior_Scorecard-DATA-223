{
 "cells": [
  {
   "cell_type": "code",
   "execution_count": 6,
   "metadata": {},
   "outputs": [
    {
     "name": "stdout",
     "output_type": "stream",
     "text": [
      "First item type: <class 'dict'>\n",
      "Keys in the first item: dict_keys(['id', 'type', 'text'])\n",
      "   id type                                text\n",
      "0  AA    l                  General statistics\n",
      "1  AM    l                       Labour market\n",
      "2  BE    l                          Population\n",
      "3  BO    l  Housing, construction and building\n",
      "4  EN    l                              Energy\n"
     ]
    }
   ],
   "source": [
    "import requests\n",
    "import pandas as pd\n",
    "\n",
    "# Make the POST request to the SCB API\n",
    "response = requests.post(url, json=payload)\n",
    "\n",
    "# Check if the request was successful\n",
    "if response.status_code == 200:\n",
    "    data = response.json()\n",
    "    \n",
    "    # Check the structure of the first item if the list is not empty\n",
    "    if len(data) > 0:\n",
    "        print(\"First item type:\", type(data[0]))\n",
    "        if isinstance(data[0], dict):\n",
    "            print(\"Keys in the first item:\", data[0].keys())\n",
    "\n",
    "        # If the items are dictionaries, you can directly convert the list into a DataFrame\n",
    "        df = pd.DataFrame(data)\n",
    "        print(df.head())  # Print the first few rows of the DataFrame\n",
    "    else:\n",
    "        print(\"Data list is empty\")\n",
    "else:\n",
    "    print(\"Failed to retrieve data:\", response.status_code)\n"
   ]
  },
  {
   "cell_type": "code",
   "execution_count": 4,
   "metadata": {},
   "outputs": [
    {
     "data": {
      "text/plain": [
       "[{'id': 'AA', 'type': 'l', 'text': 'General statistics'},\n",
       " {'id': 'AM', 'type': 'l', 'text': 'Labour market'},\n",
       " {'id': 'BE', 'type': 'l', 'text': 'Population'},\n",
       " {'id': 'BO', 'type': 'l', 'text': 'Housing, construction and building'},\n",
       " {'id': 'EN', 'type': 'l', 'text': 'Energy'},\n",
       " {'id': 'FM', 'type': 'l', 'text': 'Financial markets'},\n",
       " {'id': 'HA', 'type': 'l', 'text': 'Trade in goods and services'},\n",
       " {'id': 'HE', 'type': 'l', 'text': 'Household finances'},\n",
       " {'id': 'JO', 'type': 'l', 'text': 'Agriculture, forestry and fishery'},\n",
       " {'id': 'LE', 'type': 'l', 'text': 'Living conditions'},\n",
       " {'id': 'ME', 'type': 'l', 'text': 'Democracy'},\n",
       " {'id': 'MI', 'type': 'l', 'text': 'Environment'},\n",
       " {'id': 'NR', 'type': 'l', 'text': 'National accounts'},\n",
       " {'id': 'NV', 'type': 'l', 'text': 'Business activities'},\n",
       " {'id': 'OE', 'type': 'l', 'text': 'Public finances'},\n",
       " {'id': 'PR', 'type': 'l', 'text': 'Prices and Consumption'},\n",
       " {'id': 'TK', 'type': 'l', 'text': 'Transport and communications'},\n",
       " {'id': 'UF', 'type': 'l', 'text': 'Education and research'}]"
      ]
     },
     "execution_count": 4,
     "metadata": {},
     "output_type": "execute_result"
    }
   ],
   "source": [
    "data"
   ]
  },
  {
   "cell_type": "code",
   "execution_count": null,
   "metadata": {},
   "outputs": [],
   "source": []
  }
 ],
 "metadata": {
  "kernelspec": {
   "display_name": "newenv",
   "language": "python",
   "name": "python3"
  },
  "language_info": {
   "codemirror_mode": {
    "name": "ipython",
    "version": 3
   },
   "file_extension": ".py",
   "mimetype": "text/x-python",
   "name": "python",
   "nbconvert_exporter": "python",
   "pygments_lexer": "ipython3",
   "version": "3.9.17"
  },
  "orig_nbformat": 4
 },
 "nbformat": 4,
 "nbformat_minor": 2
}
