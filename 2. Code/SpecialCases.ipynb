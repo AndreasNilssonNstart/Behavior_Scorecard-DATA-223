{
 "cells": [
  {
   "cell_type": "code",
   "execution_count": null,
   "metadata": {},
   "outputs": [],
   "source": [
    "df = pd.read_csv('BSC_Today.csv')\n",
    "\n",
    "\n",
    "# server = 'reporting-db.nystartfinans.net'\n",
    "# database = 'reporting-db'\n",
    "# username = ''\n",
    "# password = ''\n",
    "\n",
    "# #create sqlalchemy engine\n",
    "# engine = sa.create_engine('mssql+pyodbc://'+username+':'+password+'@'+server+':1433/'+database+'?driver=SQL+Server+Native+Client+11.0')\n",
    "\n",
    "# #store dataframe as a table\n",
    "# df.to_sql('ExampleTable', con=engine, index=False, if_exists='replace', schema='nystart')"
   ]
  },
  {
   "cell_type": "code",
   "execution_count": 2,
   "metadata": {},
   "outputs": [
    {
     "ename": "FileNotFoundError",
     "evalue": "[Errno 2] No such file or directory: 'https://nystartfinansab.sharepoint.com/:x:/g/EcBXFLxzkt1GiGjv6R_pW9ABzoTx5wKzEpYmmW5Txb1T6w?e=6AymHy'",
     "output_type": "error",
     "traceback": [
      "\u001b[0;31m---------------------------------------------------------------------------\u001b[0m",
      "\u001b[0;31mFileNotFoundError\u001b[0m                         Traceback (most recent call last)",
      "\u001b[1;32m/Users/andreasnilsson/Library/CloudStorage/OneDrive-Nstart/Skrivbordet/Repository Homes/Behaviour-ScoreCard-DATA-223-/2. Code/SpecialCases.ipynb Cell 2\u001b[0m line \u001b[0;36m6\n\u001b[1;32m      <a href='vscode-notebook-cell:/Users/andreasnilsson/Library/CloudStorage/OneDrive-Nstart/Skrivbordet/Repository%20Homes/Behaviour-ScoreCard-DATA-223-/2.%20Code/SpecialCases.ipynb#W1sZmlsZQ%3D%3D?line=2'>3</a>\u001b[0m path \u001b[39m=\u001b[39m \u001b[39m'\u001b[39m\u001b[39mhttps://nystartfinansab.sharepoint.com/:x:/g/EcBXFLxzkt1GiGjv6R_pW9ABzoTx5wKzEpYmmW5Txb1T6w?e=6AymHy\u001b[39m\u001b[39m'\u001b[39m\n\u001b[1;32m      <a href='vscode-notebook-cell:/Users/andreasnilsson/Library/CloudStorage/OneDrive-Nstart/Skrivbordet/Repository%20Homes/Behaviour-ScoreCard-DATA-223-/2.%20Code/SpecialCases.ipynb#W1sZmlsZQ%3D%3D?line=4'>5</a>\u001b[0m \u001b[39m# Change the current working directory\u001b[39;00m\n\u001b[0;32m----> <a href='vscode-notebook-cell:/Users/andreasnilsson/Library/CloudStorage/OneDrive-Nstart/Skrivbordet/Repository%20Homes/Behaviour-ScoreCard-DATA-223-/2.%20Code/SpecialCases.ipynb#W1sZmlsZQ%3D%3D?line=5'>6</a>\u001b[0m os\u001b[39m.\u001b[39;49mchdir(path)\n",
      "\u001b[0;31mFileNotFoundError\u001b[0m: [Errno 2] No such file or directory: 'https://nystartfinansab.sharepoint.com/:x:/g/EcBXFLxzkt1GiGjv6R_pW9ABzoTx5wKzEpYmmW5Txb1T6w?e=6AymHy'"
     ]
    }
   ],
   "source": [
    "import os\n",
    "\n",
    "path = 'https://nystartfinansab.sharepoint.com/:x:/g/EcBXFLxzkt1GiGjv6R_pW9ABzoTx5wKzEpYmmW5Txb1T6w?e=6AymHy'\n",
    "\n",
    "# Change the current working directory\n",
    "os.chdir(path)"
   ]
  },
  {
   "cell_type": "code",
   "execution_count": null,
   "metadata": {},
   "outputs": [],
   "source": []
  },
  {
   "cell_type": "code",
   "execution_count": 1,
   "metadata": {},
   "outputs": [
    {
     "ename": "NameError",
     "evalue": "name 'pd' is not defined",
     "output_type": "error",
     "traceback": [
      "\u001b[0;31m---------------------------------------------------------------------------\u001b[0m",
      "\u001b[0;31mNameError\u001b[0m                                 Traceback (most recent call last)",
      "\u001b[1;32m/Users/andreasnilsson/Library/CloudStorage/OneDrive-Nstart/Skrivbordet/Repository Homes/Behaviour-ScoreCard-DATA-223-/2. Code/SpecialCases.ipynb Cell 4\u001b[0m line \u001b[0;36m1\n\u001b[0;32m----> <a href='vscode-notebook-cell:/Users/andreasnilsson/Library/CloudStorage/OneDrive-Nstart/Skrivbordet/Repository%20Homes/Behaviour-ScoreCard-DATA-223-/2.%20Code/SpecialCases.ipynb#W3sZmlsZQ%3D%3D?line=0'>1</a>\u001b[0m pd\u001b[39m.\u001b[39mread_excel(\u001b[39m'\u001b[39m\u001b[39mWrittenoff konton.xlsx\u001b[39m\u001b[39m'\u001b[39m)\n",
      "\u001b[0;31mNameError\u001b[0m: name 'pd' is not defined"
     ]
    }
   ],
   "source": [
    "pd.read_excel('Writtenoff konton.xlsx')"
   ]
  },
  {
   "cell_type": "code",
   "execution_count": null,
   "metadata": {},
   "outputs": [],
   "source": []
  }
 ],
 "metadata": {
  "kernelspec": {
   "display_name": "newenv",
   "language": "python",
   "name": "python3"
  },
  "language_info": {
   "codemirror_mode": {
    "name": "ipython",
    "version": 3
   },
   "file_extension": ".py",
   "mimetype": "text/x-python",
   "name": "python",
   "nbconvert_exporter": "python",
   "pygments_lexer": "ipython3",
   "version": "3.9.0"
  },
  "orig_nbformat": 4
 },
 "nbformat": 4,
 "nbformat_minor": 2
}
